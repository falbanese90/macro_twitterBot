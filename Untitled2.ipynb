{
 "cells": [
  {
   "cell_type": "code",
   "execution_count": 1,
   "id": "831aec1d-ef6c-4d82-89e1-af4674e704ab",
   "metadata": {},
   "outputs": [
    {
     "ename": "NameError",
     "evalue": "name 'webdriver' is not defined",
     "output_type": "error",
     "traceback": [
      "\u001b[0;31m---------------------------------------------------------------------------\u001b[0m",
      "\u001b[0;31mNameError\u001b[0m                                 Traceback (most recent call last)",
      "\u001b[0;32m<ipython-input-1-d3f7828fd07f>\u001b[0m in \u001b[0;36m<module>\u001b[0;34m\u001b[0m\n\u001b[0;32m----> 1\u001b[0;31m \u001b[0mchrome_options\u001b[0m \u001b[0;34m=\u001b[0m \u001b[0mwebdriver\u001b[0m\u001b[0;34m.\u001b[0m\u001b[0mChromeOptions\u001b[0m\u001b[0;34m(\u001b[0m\u001b[0;34m)\u001b[0m\u001b[0;34m\u001b[0m\u001b[0;34m\u001b[0m\u001b[0m\n\u001b[0m",
      "\u001b[0;31mNameError\u001b[0m: name 'webdriver' is not defined"
     ]
    }
   ],
   "source": [
    "chrome_options = webdriver.ChromeOptions()"
   ]
  },
  {
   "cell_type": "code",
   "execution_count": 2,
   "id": "f207d9af-084a-45ec-8870-7f24ddf3b861",
   "metadata": {},
   "outputs": [],
   "source": [
    "from selenium import webdriver"
   ]
  },
  {
   "cell_type": "code",
   "execution_count": 3,
   "id": "a5ecb4a2-c353-46f8-8699-1f2070e59c72",
   "metadata": {},
   "outputs": [],
   "source": [
    "chrome_options = webdriver.ChromeOptions()"
   ]
  },
  {
   "cell_type": "code",
   "execution_count": 4,
   "id": "4ba7564a-444b-403b-8eb9-d4cbfec08a8c",
   "metadata": {},
   "outputs": [],
   "source": [
    "chrome_options.add_argument('--incognito')"
   ]
  },
  {
   "cell_type": "code",
   "execution_count": 5,
   "id": "0660a2d8-0653-451f-9da6-d5413a0913d8",
   "metadata": {},
   "outputs": [],
   "source": [
    "chrome_options.add_argument('headless')"
   ]
  },
  {
   "cell_type": "code",
   "execution_count": 9,
   "id": "98c1d886-81bd-46f0-9f9c-dd79f1fbd9b0",
   "metadata": {},
   "outputs": [],
   "source": [
    "driver = webdriver.Chrome(options=chrome_options)"
   ]
  },
  {
   "cell_type": "code",
   "execution_count": 10,
   "id": "60ebeab1-f4a5-4ab6-8436-ca76bac3e76c",
   "metadata": {},
   "outputs": [],
   "source": [
    "driver.get('https://tradingeconomics.com/calendar')"
   ]
  },
  {
   "cell_type": "code",
   "execution_count": 11,
   "id": "19459f2b-5c9f-4b98-86b5-a529a8cc1c97",
   "metadata": {},
   "outputs": [],
   "source": [
    "calendar_range = 'setCalendarRange(\"3\")'"
   ]
  },
  {
   "cell_type": "code",
   "execution_count": 12,
   "id": "7c13d3e5-b1e5-4d3b-906e-8d72d04614ff",
   "metadata": {},
   "outputs": [
    {
     "ename": "NameError",
     "evalue": "name 'BeautifulSoup' is not defined",
     "output_type": "error",
     "traceback": [
      "\u001b[0;31m---------------------------------------------------------------------------\u001b[0m",
      "\u001b[0;31mNameError\u001b[0m                                 Traceback (most recent call last)",
      "\u001b[0;32m<ipython-input-12-59088470f357>\u001b[0m in \u001b[0;36m<module>\u001b[0;34m\u001b[0m\n\u001b[1;32m      5\u001b[0m \u001b[0mdriver\u001b[0m\u001b[0;34m.\u001b[0m\u001b[0mexecute_script\u001b[0m\u001b[0;34m(\u001b[0m\u001b[0mcalendar_importance\u001b[0m\u001b[0;34m)\u001b[0m\u001b[0;34m\u001b[0m\u001b[0;34m\u001b[0m\u001b[0m\n\u001b[1;32m      6\u001b[0m \u001b[0mhtml\u001b[0m \u001b[0;34m=\u001b[0m \u001b[0mdriver\u001b[0m\u001b[0;34m.\u001b[0m\u001b[0mpage_source\u001b[0m\u001b[0;34m\u001b[0m\u001b[0;34m\u001b[0m\u001b[0m\n\u001b[0;32m----> 7\u001b[0;31m \u001b[0msoup\u001b[0m \u001b[0;34m=\u001b[0m \u001b[0mBeautifulSoup\u001b[0m\u001b[0;34m(\u001b[0m\u001b[0mhtml\u001b[0m\u001b[0;34m,\u001b[0m \u001b[0;34m'lxml'\u001b[0m\u001b[0;34m)\u001b[0m\u001b[0;34m\u001b[0m\u001b[0;34m\u001b[0m\u001b[0m\n\u001b[0m\u001b[1;32m      8\u001b[0m \u001b[0mcalendar_events\u001b[0m \u001b[0;34m=\u001b[0m \u001b[0msoup\u001b[0m\u001b[0;34m.\u001b[0m\u001b[0mfind_all\u001b[0m\u001b[0;34m(\u001b[0m\u001b[0;34m'a'\u001b[0m\u001b[0;34m,\u001b[0m \u001b[0mclass_\u001b[0m\u001b[0;34m=\u001b[0m\u001b[0;34m'calendar-event'\u001b[0m\u001b[0;34m)\u001b[0m\u001b[0;34m\u001b[0m\u001b[0;34m\u001b[0m\u001b[0m\n\u001b[1;32m      9\u001b[0m \u001b[0mcountries\u001b[0m \u001b[0;34m=\u001b[0m \u001b[0msoup\u001b[0m\u001b[0;34m.\u001b[0m\u001b[0mfind_all\u001b[0m\u001b[0;34m(\u001b[0m\u001b[0;34m'td'\u001b[0m\u001b[0;34m,\u001b[0m \u001b[0mclass_\u001b[0m\u001b[0;34m=\u001b[0m\u001b[0;34m'calendar-iso'\u001b[0m\u001b[0;34m)\u001b[0m\u001b[0;34m\u001b[0m\u001b[0;34m\u001b[0m\u001b[0m\n",
      "\u001b[0;31mNameError\u001b[0m: name 'BeautifulSoup' is not defined"
     ]
    }
   ],
   "source": [
    "driver.get('https://tradingeconomics.com/calendar')\n",
    "calendar_range = 'setCalendarRange(\"3\")'\n",
    "calendar_importance = 'setCalendarImportance(\"3\")'\n",
    "driver.execute_script(calendar_range)\n",
    "driver.execute_script(calendar_importance)\n",
    "html = driver.page_source\n",
    "soup = BeautifulSoup(html, 'lxml')\n",
    "calendar_events = soup.find_all('a', class_='calendar-event')\n",
    "countries = soup.find_all('td', class_='calendar-iso')\n",
    "country_list = []\n",
    "\n",
    "for n in countries:\n",
    "    country_list.append(n.get_text())\n",
    "    countries = soup.find_all('td', class_='calendar-iso')\n",
    "\n",
    "with open('events.txt', 'w') as events:\n",
    "    x = 0\n",
    "    for n in calendar_events:\n",
    "        events.write(country_list[x] + \" - \" + n.get_text() + '\\n')\n",
    "        x += 1\n",
    "\n",
    "driver.quit()"
   ]
  },
  {
   "cell_type": "code",
   "execution_count": 13,
   "id": "35d0277f-7432-42ce-bac5-f40a5d721a88",
   "metadata": {},
   "outputs": [],
   "source": [
    "import tweepy\n",
    "from config import twitter, twitter_pass, twitter_access, twitter_secret\n",
    "from selenium import webdriver\n",
    "from bs4 import BeautifulSoup\n",
    "import requests\n",
    "import time\n"
   ]
  },
  {
   "cell_type": "code",
   "execution_count": 14,
   "id": "77c5252b-0667-40aa-b4b0-6655788983fc",
   "metadata": {},
   "outputs": [],
   "source": [
    "def scrape():\n",
    "    \"\"\"Allows selenium to run directly in incognito mode\n",
    "    Selenium runs your browser and opens webpage\n",
    "    Sets java script variables and executes them on page\n",
    "    Extracts source code and makes a Beautiful Soup object\n",
    "    Extracts all inner html text of headline info\n",
    "    Extract list of countries so we can know where headline event takes place\n",
    "    writes a text file of list of macro-  economic events\n",
    "    taking place this week\n",
    "    Selenium closes browser instance\"\"\"\n",
    "    chrome_options = webdriver.ChromeOptions()\n",
    "    chrome_options.add_argument('--incognito')\n",
    "    chrome_options.add_argument('headless')\n",
    "    driver = webdriver.Chrome(options=chrome_options)\n",
    "\n",
    "    driver.implicitly_wait(2)\n",
    "\n",
    "    driver.get('https://tradingeconomics.com/calendar')\n",
    "    calendar_range = 'setCalendarRange(\"3\")'\n",
    "    calendar_importance = 'setCalendarImportance(\"3\")'\n",
    "    driver.execute_script(calendar_range)\n",
    "    driver.execute_script(calendar_importance)\n",
    "    html = driver.page_source\n",
    "    soup = BeautifulSoup(html, 'lxml')\n",
    "    calendar_events = soup.find_all('a', class_='calendar-event')\n",
    "    countries = soup.find_all('td', class_='calendar-iso')\n",
    "    country_list = []\n",
    "\n",
    "    for n in countries:\n",
    "        country_list.append(n.get_text())\n",
    "    countries = soup.find_all('td', class_='calendar-iso')\n",
    "    new_country_list = []\n",
    "    for n in country_list:\n",
    "        if 'US' in n[0:1]:\n",
    "            new_country_list.append(n)\n",
    "        \n",
    "    with open('events.txt', 'w') as events:\n",
    "        x = 0\n",
    "        for n in calendar_events:\n",
    "            events.write(country_list[x] + \" - \" + n.get_text() + '\\n')\n",
    "            x += 1\n",
    "\n",
    "    driver.quit()\n",
    "\n",
    "\n",
    "def tweet():\n",
    "    \"\"\"Activates twitter api with OAuth\n",
    "    Tweets the written file\"\"\"\n",
    "    auth = tweepy.OAuthHandler(twitter, twitter_pass)\n",
    "    auth.set_access_token(twitter_access, twitter_secret)\n",
    "    api = tweepy.API(auth)\n",
    "\n",
    "    with open('events.txt', 'r') as events:\n",
    "        api.update_status('Major Macro Events for this week:\\n\\n' + events.read())\n",
    "\n",
    "\n",
    "if __name__ == 'twitterBot':\n",
    "    scrape()\n",
    "    time.sleep(10)\n",
    "    tweet()\n"
   ]
  },
  {
   "cell_type": "code",
   "execution_count": 15,
   "id": "4131a93a-6fbb-4ee3-9147-d3823146e7de",
   "metadata": {},
   "outputs": [],
   "source": [
    "auth = tweepy.OAuthHandler(twitter, twitter_pass)"
   ]
  },
  {
   "cell_type": "code",
   "execution_count": 16,
   "id": "1dcfa462-f2c6-4730-9c23-896e3ed8c63c",
   "metadata": {},
   "outputs": [],
   "source": [
    "auth.set_access_token(twitter_access, twitter_secret)"
   ]
  },
  {
   "cell_type": "code",
   "execution_count": 17,
   "id": "7c01c578-a2b5-4ec6-900f-15b5b2daf270",
   "metadata": {},
   "outputs": [],
   "source": [
    "api = tweepy.API(auth)"
   ]
  },
  {
   "cell_type": "code",
   "execution_count": 21,
   "id": "431e4cd0-4e62-461f-b41b-345fadd72ae7",
   "metadata": {},
   "outputs": [],
   "source": [
    "scrape()"
   ]
  },
  {
   "cell_type": "code",
   "execution_count": 19,
   "id": "137cd14c-d5b7-4741-8719-4348e44a0d01",
   "metadata": {},
   "outputs": [
    {
     "ename": "TweepError",
     "evalue": "[{'code': 186, 'message': 'Tweet needs to be a bit shorter.'}]",
     "output_type": "error",
     "traceback": [
      "\u001b[0;31m---------------------------------------------------------------------------\u001b[0m",
      "\u001b[0;31mTweepError\u001b[0m                                Traceback (most recent call last)",
      "\u001b[0;32m<ipython-input-19-b4542c1c75a2>\u001b[0m in \u001b[0;36m<module>\u001b[0;34m\u001b[0m\n\u001b[0;32m----> 1\u001b[0;31m \u001b[0mtweet\u001b[0m\u001b[0;34m(\u001b[0m\u001b[0;34m)\u001b[0m\u001b[0;34m\u001b[0m\u001b[0;34m\u001b[0m\u001b[0m\n\u001b[0m",
      "\u001b[0;32m<ipython-input-14-6c871bb57d52>\u001b[0m in \u001b[0;36mtweet\u001b[0;34m()\u001b[0m\n\u001b[1;32m     48\u001b[0m \u001b[0;34m\u001b[0m\u001b[0m\n\u001b[1;32m     49\u001b[0m     \u001b[0;32mwith\u001b[0m \u001b[0mopen\u001b[0m\u001b[0;34m(\u001b[0m\u001b[0;34m'events.txt'\u001b[0m\u001b[0;34m,\u001b[0m \u001b[0;34m'r'\u001b[0m\u001b[0;34m)\u001b[0m \u001b[0;32mas\u001b[0m \u001b[0mevents\u001b[0m\u001b[0;34m:\u001b[0m\u001b[0;34m\u001b[0m\u001b[0;34m\u001b[0m\u001b[0m\n\u001b[0;32m---> 50\u001b[0;31m         \u001b[0mapi\u001b[0m\u001b[0;34m.\u001b[0m\u001b[0mupdate_status\u001b[0m\u001b[0;34m(\u001b[0m\u001b[0;34m'Major Macro Events for this week:\\n\\n'\u001b[0m \u001b[0;34m+\u001b[0m \u001b[0mevents\u001b[0m\u001b[0;34m.\u001b[0m\u001b[0mread\u001b[0m\u001b[0;34m(\u001b[0m\u001b[0;34m)\u001b[0m\u001b[0;34m)\u001b[0m\u001b[0;34m\u001b[0m\u001b[0;34m\u001b[0m\u001b[0m\n\u001b[0m\u001b[1;32m     51\u001b[0m \u001b[0;34m\u001b[0m\u001b[0m\n\u001b[1;32m     52\u001b[0m \u001b[0;34m\u001b[0m\u001b[0m\n",
      "\u001b[0;32m/Library/Frameworks/Python.framework/Versions/3.9/lib/python3.9/site-packages/tweepy/api.py\u001b[0m in \u001b[0;36mupdate_status\u001b[0;34m(self, *args, **kwargs)\u001b[0m\n\u001b[1;32m    203\u001b[0m             \u001b[0mkwargs\u001b[0m\u001b[0;34m[\u001b[0m\u001b[0;34m'media_ids'\u001b[0m\u001b[0;34m]\u001b[0m \u001b[0;34m=\u001b[0m \u001b[0mlist_to_csv\u001b[0m\u001b[0;34m(\u001b[0m\u001b[0mkwargs\u001b[0m\u001b[0;34m[\u001b[0m\u001b[0;34m'media_ids'\u001b[0m\u001b[0;34m]\u001b[0m\u001b[0;34m)\u001b[0m\u001b[0;34m\u001b[0m\u001b[0;34m\u001b[0m\u001b[0m\n\u001b[1;32m    204\u001b[0m \u001b[0;34m\u001b[0m\u001b[0m\n\u001b[0;32m--> 205\u001b[0;31m         return bind_api(\n\u001b[0m\u001b[1;32m    206\u001b[0m             \u001b[0mapi\u001b[0m\u001b[0;34m=\u001b[0m\u001b[0mself\u001b[0m\u001b[0;34m,\u001b[0m\u001b[0;34m\u001b[0m\u001b[0;34m\u001b[0m\u001b[0m\n\u001b[1;32m    207\u001b[0m             \u001b[0mpath\u001b[0m\u001b[0;34m=\u001b[0m\u001b[0;34m'/statuses/update.json'\u001b[0m\u001b[0;34m,\u001b[0m\u001b[0;34m\u001b[0m\u001b[0;34m\u001b[0m\u001b[0m\n",
      "\u001b[0;32m/Library/Frameworks/Python.framework/Versions/3.9/lib/python3.9/site-packages/tweepy/binder.py\u001b[0m in \u001b[0;36m_call\u001b[0;34m(*args, **kwargs)\u001b[0m\n\u001b[1;32m    251\u001b[0m                 \u001b[0;32mreturn\u001b[0m \u001b[0mmethod\u001b[0m\u001b[0;34m\u001b[0m\u001b[0;34m\u001b[0m\u001b[0m\n\u001b[1;32m    252\u001b[0m             \u001b[0;32melse\u001b[0m\u001b[0;34m:\u001b[0m\u001b[0;34m\u001b[0m\u001b[0;34m\u001b[0m\u001b[0m\n\u001b[0;32m--> 253\u001b[0;31m                 \u001b[0;32mreturn\u001b[0m \u001b[0mmethod\u001b[0m\u001b[0;34m.\u001b[0m\u001b[0mexecute\u001b[0m\u001b[0;34m(\u001b[0m\u001b[0;34m)\u001b[0m\u001b[0;34m\u001b[0m\u001b[0;34m\u001b[0m\u001b[0m\n\u001b[0m\u001b[1;32m    254\u001b[0m         \u001b[0;32mfinally\u001b[0m\u001b[0;34m:\u001b[0m\u001b[0;34m\u001b[0m\u001b[0;34m\u001b[0m\u001b[0m\n\u001b[1;32m    255\u001b[0m             \u001b[0mmethod\u001b[0m\u001b[0;34m.\u001b[0m\u001b[0msession\u001b[0m\u001b[0;34m.\u001b[0m\u001b[0mclose\u001b[0m\u001b[0;34m(\u001b[0m\u001b[0;34m)\u001b[0m\u001b[0;34m\u001b[0m\u001b[0;34m\u001b[0m\u001b[0m\n",
      "\u001b[0;32m/Library/Frameworks/Python.framework/Versions/3.9/lib/python3.9/site-packages/tweepy/binder.py\u001b[0m in \u001b[0;36mexecute\u001b[0;34m(self)\u001b[0m\n\u001b[1;32m    232\u001b[0m                     \u001b[0;32mraise\u001b[0m \u001b[0mRateLimitError\u001b[0m\u001b[0;34m(\u001b[0m\u001b[0merror_msg\u001b[0m\u001b[0;34m,\u001b[0m \u001b[0mresp\u001b[0m\u001b[0;34m)\u001b[0m\u001b[0;34m\u001b[0m\u001b[0;34m\u001b[0m\u001b[0m\n\u001b[1;32m    233\u001b[0m                 \u001b[0;32melse\u001b[0m\u001b[0;34m:\u001b[0m\u001b[0;34m\u001b[0m\u001b[0;34m\u001b[0m\u001b[0m\n\u001b[0;32m--> 234\u001b[0;31m                     \u001b[0;32mraise\u001b[0m \u001b[0mTweepError\u001b[0m\u001b[0;34m(\u001b[0m\u001b[0merror_msg\u001b[0m\u001b[0;34m,\u001b[0m \u001b[0mresp\u001b[0m\u001b[0;34m,\u001b[0m \u001b[0mapi_code\u001b[0m\u001b[0;34m=\u001b[0m\u001b[0mapi_error_code\u001b[0m\u001b[0;34m)\u001b[0m\u001b[0;34m\u001b[0m\u001b[0;34m\u001b[0m\u001b[0m\n\u001b[0m\u001b[1;32m    235\u001b[0m \u001b[0;34m\u001b[0m\u001b[0m\n\u001b[1;32m    236\u001b[0m             \u001b[0;31m# Parse the response payload\u001b[0m\u001b[0;34m\u001b[0m\u001b[0;34m\u001b[0m\u001b[0;34m\u001b[0m\u001b[0m\n",
      "\u001b[0;31mTweepError\u001b[0m: [{'code': 186, 'message': 'Tweet needs to be a bit shorter.'}]"
     ]
    }
   ],
   "source": [
    "tweet()"
   ]
  },
  {
   "cell_type": "code",
   "execution_count": 23,
   "id": "7a1e7513-debf-4a47-ba0e-6decb02f6aba",
   "metadata": {},
   "outputs": [
    {
     "ename": "NameError",
     "evalue": "name 'country_list' is not defined",
     "output_type": "error",
     "traceback": [
      "\u001b[0;31m---------------------------------------------------------------------------\u001b[0m",
      "\u001b[0;31mNameError\u001b[0m                                 Traceback (most recent call last)",
      "\u001b[0;32m<ipython-input-23-4a8f7097ba75>\u001b[0m in \u001b[0;36m<module>\u001b[0;34m\u001b[0m\n\u001b[0;32m----> 1\u001b[0;31m \u001b[0;32mfor\u001b[0m \u001b[0mn\u001b[0m \u001b[0;32min\u001b[0m \u001b[0mcountry_list\u001b[0m\u001b[0;34m:\u001b[0m\u001b[0;34m\u001b[0m\u001b[0;34m\u001b[0m\u001b[0m\n\u001b[0m\u001b[1;32m      2\u001b[0m     \u001b[0mprint\u001b[0m\u001b[0;34m(\u001b[0m\u001b[0mn\u001b[0m\u001b[0;34m)\u001b[0m\u001b[0;34m\u001b[0m\u001b[0;34m\u001b[0m\u001b[0m\n",
      "\u001b[0;31mNameError\u001b[0m: name 'country_list' is not defined"
     ]
    }
   ],
   "source": [
    "for n in country_list:\n",
    "    print(n)"
   ]
  },
  {
   "cell_type": "code",
   "execution_count": null,
   "id": "7e5d1953-c233-4092-933a-8df77bcf07ab",
   "metadata": {},
   "outputs": [],
   "source": []
  }
 ],
 "metadata": {
  "kernelspec": {
   "display_name": "Python 3 (ipykernel)",
   "language": "python",
   "name": "python3"
  },
  "language_info": {
   "codemirror_mode": {
    "name": "ipython",
    "version": 3
   },
   "file_extension": ".py",
   "mimetype": "text/x-python",
   "name": "python",
   "nbconvert_exporter": "python",
   "pygments_lexer": "ipython3",
   "version": "3.9.2"
  }
 },
 "nbformat": 4,
 "nbformat_minor": 5
}
